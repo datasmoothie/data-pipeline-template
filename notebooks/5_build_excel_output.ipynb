{
 "cells": [
  {
   "cell_type": "code",
   "execution_count": 1,
   "metadata": {},
   "outputs": [],
   "source": [
    "import tally\n",
    "import os\n",
    "import pandas as pd\n",
    "ds = tally.DataSet(api_key=os.environ.get(\"TALLY_KEY\"))"
   ]
  },
  {
   "cell_type": "code",
   "execution_count": null,
   "metadata": {},
   "outputs": [],
   "source": [
    "project_name = \"tally_example_project\"\n",
    "ds.use_quantipy(f\"../data/4_{project_name}.json\",f\"../data/4_{project_name}.csv\")"
   ]
  },
  {
   "cell_type": "code",
   "execution_count": 4,
   "metadata": {},
   "outputs": [],
   "source": [
    "table_banner=['tabs_gender','tabs_boonage', 'tabs_gen']"
   ]
  },
  {
   "cell_type": "code",
   "execution_count": 5,
   "metadata": {},
   "outputs": [],
   "source": [
    "questionList = ['q1',\n",
    "  'q2',\n",
    "  'q3',\n",
    "  'q4',\n",
    "  'q5'\n",
    "]"
   ]
  },
  {
   "cell_type": "code",
   "execution_count": 14,
   "metadata": {},
   "outputs": [],
   "source": [
    "build = tally.Build(name='client A', default_dataset=ds)\n",
    "\n",
    "####\n",
    "# Set options sthat apply to whole build/Excel file\n",
    "####\n",
    "# set weight\n",
    "build.options.set_weight('weight')\n",
    "# set base outside of main table\n",
    "build.options.set_base_position('outside')\n",
    "# brand with font\n",
    "build.options.set_font('open sans')\n",
    "# only show percentage results\n",
    "build.options.set_ci(['c%'])\n",
    "\n",
    "sheet = build.add_sheet(banner=table_banner)\n",
    "\n",
    "####\n",
    "# Set options that apply on a sheet-level\n",
    "####\n",
    "\n",
    "# set color and weight of base\n",
    "sheet.options.set_answer_format(\n",
    "    'base', \n",
    "    {\"font_color\":\"F15A30\", \"bold\":True,'text_wrap': True}\n",
    ")\n",
    "sheet.options.set_question_format('percentage', {\"bold\":True})\n",
    "sheet.options.set_column_format_for_type('base', 1, {\"bold\":True})\n",
    "sheet.options.set_column_format_for_type('percentage', 1, {\"bold\":True})\n",
    "\n",
    "####\n",
    "# Run the calculations and add them to a build\n",
    "####\n",
    "for questionlist_index, question in enumerate(questionList):\n",
    "    value = question\n",
    "    if questionlist_index ==0:\n",
    "        sheet.add_table(stub={'x' : value, 'xtotal':True, 'decimals':0, 'base': 'both'})\n",
    "    else:\n",
    "        sheet.options.set_base_position('hide')\n",
    "        sheet.add_table(stub={'x' : value, 'xtotal':True, 'decimals':0})\n"
   ]
  },
  {
   "cell_type": "code",
   "execution_count": 15,
   "metadata": {},
   "outputs": [],
   "source": [
    "build.save_excel('../outputs/my_build.xlsx')"
   ]
  },
  {
   "cell_type": "code",
   "execution_count": 11,
   "metadata": {},
   "outputs": [],
   "source": [
    "project_name = \"tally_example_project\"\n",
    "ds.write_quantipy(f\"../data/5_{project_name}.json\",f\"../data/5_{project_name}.csv\")"
   ]
  }
 ],
 "metadata": {
  "kernelspec": {
   "display_name": "Python 3.10.4 64-bit",
   "language": "python",
   "name": "python3"
  },
  "language_info": {
   "codemirror_mode": {
    "name": "ipython",
    "version": 3
   },
   "file_extension": ".py",
   "mimetype": "text/x-python",
   "name": "python",
   "nbconvert_exporter": "python",
   "pygments_lexer": "ipython3",
   "version": "3.10.4"
  },
  "orig_nbformat": 4,
  "vscode": {
   "interpreter": {
    "hash": "3ad933181bd8a04b432d3370b9dc3b0662ad032c4dfaa4e4f1596c548f763858"
   }
  }
 },
 "nbformat": 4,
 "nbformat_minor": 2
}
