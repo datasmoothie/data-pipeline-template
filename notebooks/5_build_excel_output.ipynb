{
 "cells": [
  {
   "attachments": {},
   "cell_type": "markdown",
   "metadata": {},
   "source": [
    "# Build Excel files\n",
    "\n",
    "Refer to the [Tally documentation on building Excel files](https://python.datasmoothie.com/7_build_excel_output.html) for tips on what can be done here."
   ]
  },
  {
   "cell_type": "code",
   "execution_count": 16,
   "metadata": {},
   "outputs": [],
   "source": [
    "import tally\n",
    "import os\n",
    "import pandas as pd\n",
    "import json\n",
    "ds = tally.DataSet(api_key=os.environ.get(\"TALLY_KEY\"))"
   ]
  },
  {
   "cell_type": "code",
   "execution_count": null,
   "metadata": {
    "tags": [
     "parameters"
    ]
   },
   "outputs": [],
   "source": [
    "project_name = \"tally_example_project\""
   ]
  },
  {
   "cell_type": "code",
   "execution_count": 17,
   "metadata": {},
   "outputs": [],
   "source": [
    "ds.use_quantipy(f\"../data/4_{project_name}.json\",f\"../data/4_{project_name}.csv\")"
   ]
  },
  {
   "attachments": {},
   "cell_type": "markdown",
   "metadata": {},
   "source": [
    "# Build starts here\n",
    "\n",
    "## 1. Define your banner variables (to appear at the top of your file)"
   ]
  },
  {
   "cell_type": "code",
   "execution_count": 18,
   "metadata": {},
   "outputs": [],
   "source": [
    "# add your banner variables here, e.g. gender, age, etc\n",
    "table_banner = []"
   ]
  },
  {
   "attachments": {},
   "cell_type": "markdown",
   "metadata": {},
   "source": [
    "#### this only runs if you haven't specified banner variables yourself - we get some common variable names"
   ]
  },
  {
   "cell_type": "code",
   "execution_count": 19,
   "metadata": {},
   "outputs": [],
   "source": [
    "if len(table_banner) == 0:\n",
    "  variables = ds.variables()\n",
    "\n",
    "  with open('../specs/common_variable_names.json', 'r') as f:\n",
    "      common_variables = json.load(f)\n",
    "  common_variables = [i.lower() for i in common_variables]\n",
    "  for var in variables['single']:\n",
    "    if any(match in var for match in common_variables):\n",
    "      table_banner.append(var)"
   ]
  },
  {
   "attachments": {},
   "cell_type": "markdown",
   "metadata": {},
   "source": [
    "# 2. Define stub/side variables\n",
    "\n",
    "These will apear on the left."
   ]
  },
  {
   "cell_type": "code",
   "execution_count": 20,
   "metadata": {},
   "outputs": [],
   "source": [
    "# add your question list, e.g.\n",
    "# question_list = ['q1',\n",
    "#  'q2',\n",
    "#  'q3',\n",
    "#  'q4',\n",
    "#  'q5'\n",
    "#]\n",
    "\n",
    "question_list = []"
   ]
  },
  {
   "attachments": {},
   "cell_type": "markdown",
   "metadata": {},
   "source": [
    "#### if you haven't defined the list, we add all questions except the banner questions"
   ]
  },
  {
   "cell_type": "code",
   "execution_count": null,
   "metadata": {},
   "outputs": [],
   "source": [
    "if len(question_list) == 0:\n",
    "  question_list = variables['single']\n",
    "  question_list = [i for i in question_list if i not in table_banner]"
   ]
  },
  {
   "attachments": {},
   "cell_type": "markdown",
   "metadata": {},
   "source": [
    "# 3. Build the Excel table"
   ]
  },
  {
   "cell_type": "code",
   "execution_count": 22,
   "metadata": {},
   "outputs": [],
   "source": [
    "build = tally.Build(name='client A', default_dataset=ds)\n",
    "\n",
    "####\n",
    "# Set options sthat apply to whole build/Excel file\n",
    "####\n",
    "# set weight\n",
    "#build.options.set_weight('weight')\n",
    "# set base outside of main table\n",
    "build.options.set_base_position('outside')\n",
    "# brand with font\n",
    "build.options.set_font('open sans')\n",
    "# only show percentage results\n",
    "build.options.set_ci(['c%'])\n",
    "\n",
    "sheet = build.add_sheet(banner=table_banner)\n",
    "\n",
    "####\n",
    "# Set options that apply on a sheet-level\n",
    "####\n",
    "\n",
    "# set color and weight of base\n",
    "sheet.options.set_answer_format(\n",
    "    'base', \n",
    "    {\"font_color\":\"F15A30\", \"bold\":True,'text_wrap': True}\n",
    ")\n",
    "sheet.options.set_question_format('percentage', {\"bold\":True})\n",
    "sheet.options.set_column_format_for_type('base', 1, {\"bold\":True})\n",
    "sheet.options.set_column_format_for_type('percentage', 1, {\"bold\":True})\n",
    "\n",
    "####\n",
    "# Run the calculations and add them to a build\n",
    "####\n",
    "for questionlist_index, question in enumerate(question_list):\n",
    "    if questionlist_index ==0:\n",
    "        sheet.add_table(stub={'x' : question, 'xtotal':True, 'decimals':0})\n",
    "    else:\n",
    "        sheet.options.set_base_position('hide')\n",
    "        sheet.add_table(stub={'x' : question, 'xtotal':True, 'decimals':0})\n"
   ]
  },
  {
   "cell_type": "code",
   "execution_count": 23,
   "metadata": {},
   "outputs": [],
   "source": [
    "build.save_excel(f'../outputs/{project_name}.xlsx')"
   ]
  },
  {
   "cell_type": "code",
   "execution_count": 24,
   "metadata": {},
   "outputs": [],
   "source": [
    "ds.write_quantipy(f\"../data/5_{project_name}.json\",f\"../data/5_{project_name}.csv\")"
   ]
  },
  {
   "cell_type": "code",
   "execution_count": null,
   "metadata": {},
   "outputs": [],
   "source": []
  }
 ],
 "metadata": {
  "kernelspec": {
   "display_name": "Python 3.10.4 64-bit",
   "language": "python",
   "name": "python3"
  },
  "language_info": {
   "codemirror_mode": {
    "name": "ipython",
    "version": 3
   },
   "file_extension": ".py",
   "mimetype": "text/x-python",
   "name": "python",
   "nbconvert_exporter": "python",
   "pygments_lexer": "ipython3",
   "version": "3.8.16"
  },
  "orig_nbformat": 4,
  "vscode": {
   "interpreter": {
    "hash": "3ad933181bd8a04b432d3370b9dc3b0662ad032c4dfaa4e4f1596c548f763858"
   }
  }
 },
 "nbformat": 4,
 "nbformat_minor": 2
}
