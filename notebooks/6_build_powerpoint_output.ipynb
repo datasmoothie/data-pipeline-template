{
 "cells": [
  {
   "attachments": {},
   "cell_type": "markdown",
   "metadata": {},
   "source": [
    "# Build Powerpoint files\n",
    "\n",
    "\n",
    "<style>\n",
    ".alert{\n",
    "    padding:10px;\n",
    "    margin-bottom:10px;\n",
    "    background-color: rgb(207, 226, 255);\n",
    "    border: 1px solid rgb(158,197,254);\n",
    "    border-radius: 5px;\n",
    "    width:97%;\n",
    "    margin-top:20px;\n",
    "}\n",
    "</style>\n",
    "\n"
   ]
  },
  {
   "cell_type": "code",
   "execution_count": 1,
   "metadata": {},
   "outputs": [],
   "source": [
    "import tally\n",
    "import os\n",
    "import pandas as pd\n",
    "import json\n",
    "ds = tally.DataSet(api_key=os.environ.get(\"TALLY_KEY\"))"
   ]
  },
  {
   "attachments": {},
   "cell_type": "markdown",
   "metadata": {},
   "source": [
    "Note that changes made in this cell are overriden by the `parameters` values set in run_pipeline"
   ]
  },
  {
   "cell_type": "code",
   "execution_count": 2,
   "metadata": {
    "tags": [
     "parameters"
    ]
   },
   "outputs": [],
   "source": [
    "project_name = \"tally_example_project\"\n",
    "one_sheet_per_table = True\n",
    "banner_variables = []\n",
    "stub_variables = []"
   ]
  },
  {
   "cell_type": "code",
   "execution_count": 3,
   "metadata": {},
   "outputs": [],
   "source": [
    "ds.use_quantipy(f\"../data/4_{project_name}.json\",f\"../data/4_{project_name}.csv\")\n",
    "variables = ds.variables()"
   ]
  },
  {
   "attachments": {},
   "cell_type": "markdown",
   "metadata": {},
   "source": [
    "# Build starts here\n",
    "\n",
    "## 1. Define your banner variables (to appear at the top of your file)"
   ]
  },
  {
   "attachments": {},
   "cell_type": "markdown",
   "metadata": {},
   "source": [
    "#### this only runs if you haven't specified banner variables yourself - we get some common variable names"
   ]
  },
  {
   "cell_type": "code",
   "execution_count": 4,
   "metadata": {},
   "outputs": [],
   "source": [
    "if len(banner_variables) == 0:\n",
    "  with open('../specs/common_variable_names.json', 'r') as f:\n",
    "      common_variables = json.load(f)\n",
    "  common_variables = [i.lower() for i in common_variables]\n",
    "  for var in variables['single']:\n",
    "    if any(match in var for match in common_variables):\n",
    "      banner_variables.append(var)"
   ]
  },
  {
   "attachments": {},
   "cell_type": "markdown",
   "metadata": {},
   "source": [
    "# 2. Define stub/side variables\n",
    "\n",
    "These will apear on the left."
   ]
  },
  {
   "cell_type": "code",
   "execution_count": 5,
   "metadata": {},
   "outputs": [],
   "source": [
    "# you can define your stub_variables in here or in pipeline.ipynb\n",
    "# stub_variables = ['q1',\n",
    "#  'q2',\n",
    "#  'q3',\n",
    "#  'q4',\n",
    "#  'q5'\n",
    "#]"
   ]
  },
  {
   "attachments": {},
   "cell_type": "markdown",
   "metadata": {},
   "source": [
    "#### if you haven't defined the list, we add all questions except the banner questions"
   ]
  },
  {
   "cell_type": "code",
   "execution_count": 6,
   "metadata": {},
   "outputs": [],
   "source": [
    "if len(stub_variables) == 0:\n",
    "  stub_variables = variables['single']\n",
    "  stub_variables = [i for i in stub_variables if i not in banner_variables]"
   ]
  },
  {
   "attachments": {},
   "cell_type": "markdown",
   "metadata": {},
   "source": [
    "# 3. Build the Powerpoint file"
   ]
  },
  {
   "cell_type": "code",
   "execution_count": 8,
   "metadata": {},
   "outputs": [
    {
     "data": {
      "text/plain": [
       "<Response [200]>"
      ]
     },
     "execution_count": 8,
     "metadata": {},
     "output_type": "execute_result"
    }
   ],
   "source": [
    "ds.build_powerpoint(filename='../outputs/{}.pptx'.format(project_name),\n",
    "                        powerpoint_template='../specs/Powerpoint_Template.pptx', \n",
    "                        x=stub_variables, \n",
    "                        y=banner_variables,\n",
    "                        )"
   ]
  },
  {
   "cell_type": "code",
   "execution_count": null,
   "metadata": {},
   "outputs": [],
   "source": []
  }
 ],
 "metadata": {
  "kernelspec": {
   "display_name": "Python 3.10.4 64-bit",
   "language": "python",
   "name": "python3"
  },
  "language_info": {
   "codemirror_mode": {
    "name": "ipython",
    "version": 3
   },
   "file_extension": ".py",
   "mimetype": "text/x-python",
   "name": "python",
   "nbconvert_exporter": "python",
   "pygments_lexer": "ipython3",
   "version": "3.10.4"
  },
  "orig_nbformat": 4,
  "vscode": {
   "interpreter": {
    "hash": "3ad933181bd8a04b432d3370b9dc3b0662ad032c4dfaa4e4f1596c548f763858"
   }
  }
 },
 "nbformat": 4,
 "nbformat_minor": 2
}
