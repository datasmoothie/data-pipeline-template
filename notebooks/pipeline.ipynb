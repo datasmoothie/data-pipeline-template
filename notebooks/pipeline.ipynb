{
 "cells": [
  {
   "cell_type": "code",
   "execution_count": 13,
   "metadata": {},
   "outputs": [],
   "source": [
    "import os\n",
    "import papermill as pm\n",
    "import re"
   ]
  },
  {
   "cell_type": "code",
   "execution_count": 17,
   "metadata": {},
   "outputs": [
    {
     "name": "stderr",
     "output_type": "stream",
     "text": [
      "Executing: 100%|██████████| 3/3 [00:02<00:00,  1.29cell/s]\n",
      "Executing: 100%|██████████| 5/5 [00:02<00:00,  1.80cell/s]\n",
      "Executing: 100%|██████████| 4/4 [00:01<00:00,  2.13cell/s]\n",
      "Executing: 100%|██████████| 4/4 [00:02<00:00,  1.70cell/s]\n",
      "Executing: 100%|██████████| 4/4 [00:02<00:00,  1.78cell/s]\n",
      "Executing: 100%|██████████| 9/9 [00:07<00:00,  1.16cell/s]\n"
     ]
    }
   ],
   "source": [
    "# Set the path to the folder containing the Jupyter notebooks\n",
    "notebook_folder = '.'\n",
    "\n",
    "# Loop over all the Jupyter notebooks in the folder\n",
    "for notebook_name in os.listdir(notebook_folder):\n",
    "    # Check if the file is a Jupyter notebook\n",
    "    if notebook_name.endswith('.ipynb') and re.match(r'^\\d+_', notebook_name):\n",
    "        # Set the path to the input and output notebooks\n",
    "        input_notebook_path = os.path.join(notebook_folder, notebook_name)\n",
    "        output_notebook_path = os.path.join(notebook_folder, '../outputs', notebook_name)\n",
    "        \n",
    "        # Execute the notebook with Papermill\n",
    "        pm.execute_notebook(input_notebook_path, output_notebook_path)\n"
   ]
  },
  {
   "cell_type": "code",
   "execution_count": null,
   "metadata": {},
   "outputs": [],
   "source": []
  }
 ],
 "metadata": {
  "kernelspec": {
   "display_name": "Python 3",
   "language": "python",
   "name": "python3"
  },
  "language_info": {
   "codemirror_mode": {
    "name": "ipython",
    "version": 3
   },
   "file_extension": ".py",
   "mimetype": "text/x-python",
   "name": "python",
   "nbconvert_exporter": "python",
   "pygments_lexer": "ipython3",
   "version": "3.8.16"
  },
  "orig_nbformat": 4
 },
 "nbformat": 4,
 "nbformat_minor": 2
}
