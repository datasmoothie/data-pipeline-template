{
 "cells": [
  {
   "cell_type": "code",
   "execution_count": 1,
   "metadata": {},
   "outputs": [],
   "source": [
    "import os, re\n",
    "import papermill as pm\n"
   ]
  },
  {
   "attachments": {},
   "cell_type": "markdown",
   "metadata": {},
   "source": [
    "# Name your project\n",
    "\n",
    "The `project_name` variable will control what the Excel file is called that is built and what the data files that save the state of the data after each step is called."
   ]
  },
  {
   "cell_type": "code",
   "execution_count": 8,
   "metadata": {},
   "outputs": [],
   "source": [
    "# parameters\n",
    "parameters = {\n",
    "  'project_name': 'tally_example_project',\n",
    "}\n"
   ]
  },
  {
   "attachments": {},
   "cell_type": "markdown",
   "metadata": {},
   "source": [
    "# Run the pipeline\n",
    "\n",
    "Run this cell to run all your notebooks, from 1-5, and produce the final build. This pipeline can form part of your CI/CD pipeline."
   ]
  },
  {
   "cell_type": "code",
   "execution_count": 10,
   "metadata": {},
   "outputs": [
    {
     "name": "stderr",
     "output_type": "stream",
     "text": [
      "Executing: 100%|██████████| 5/5 [00:01<00:00,  2.57cell/s]\n",
      "Executing: 100%|██████████| 6/6 [00:02<00:00,  2.12cell/s]\n",
      "Executing: 100%|██████████| 6/6 [00:01<00:00,  3.34cell/s]\n",
      "Executing: 100%|██████████| 6/6 [00:01<00:00,  3.33cell/s]\n",
      "Executing: 100%|██████████| 6/6 [00:01<00:00,  3.02cell/s]\n",
      "Executing: 100%|██████████| 11/11 [00:18<00:00,  1.73s/cell]\n"
     ]
    }
   ],
   "source": [
    "# Set the path to the folder containing the Jupyter notebooks\n",
    "notebook_folder = '.'\n",
    "\n",
    "# Loop over all the Jupyter notebooks in the folder\n",
    "for notebook_name in sorted(os.listdir(notebook_folder)):\n",
    "    # Check if the file is a Jupyter notebook\n",
    "    if notebook_name.endswith('.ipynb') and re.match(r'^\\d+_', notebook_name):\n",
    "        # Set the path to the input and output notebooks\n",
    "        input_notebook_path = os.path.join(notebook_folder, notebook_name)\n",
    "        output_notebook_path = os.path.join(notebook_folder, './output', notebook_name)\n",
    "        \n",
    "        # Execute the notebook with Papermill\n",
    "        pm.execute_notebook(input_notebook_path, output_notebook_path, parameters=parameters)\n"
   ]
  },
  {
   "cell_type": "code",
   "execution_count": null,
   "metadata": {},
   "outputs": [],
   "source": []
  }
 ],
 "metadata": {
  "kernelspec": {
   "display_name": "Python 3",
   "language": "python",
   "name": "python3"
  },
  "language_info": {
   "codemirror_mode": {
    "name": "ipython",
    "version": 3
   },
   "file_extension": ".py",
   "mimetype": "text/x-python",
   "name": "python",
   "nbconvert_exporter": "python",
   "pygments_lexer": "ipython3",
   "version": "3.8.16"
  },
  "orig_nbformat": 4
 },
 "nbformat": 4,
 "nbformat_minor": 2
}
