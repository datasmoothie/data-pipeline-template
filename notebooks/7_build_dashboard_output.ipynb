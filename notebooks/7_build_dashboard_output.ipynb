{
 "cells": [
  {
   "cell_type": "code",
   "execution_count": 61,
   "metadata": {},
   "outputs": [],
   "source": [
    "import datasmoothie\n",
    "import os\n",
    "import tally\n",
    "import json\n",
    "ds = tally.DataSet(api_key=os.environ.get(\"TALLY_KEY\"))"
   ]
  },
  {
   "cell_type": "code",
   "execution_count": 62,
   "metadata": {
    "tags": [
     "parameters"
    ]
   },
   "outputs": [],
   "source": [
    "project_name = \"tally_example_project\"\n",
    "dashboard_api = os.environ.get(\"DATASMOOTHIE_KEY\")\n",
    "banner_variables = []\n",
    "stub_variables = []\n"
   ]
  },
  {
   "cell_type": "code",
   "execution_count": 63,
   "metadata": {},
   "outputs": [],
   "source": [
    "ds.use_quantipy(f\"../data/4_{project_name}.json\",f\"../data/4_{project_name}.csv\")"
   ]
  },
  {
   "cell_type": "code",
   "execution_count": 64,
   "metadata": {},
   "outputs": [],
   "source": [
    "dashboard_client = datasmoothie.Client(api_key=dashboard_api)"
   ]
  },
  {
   "attachments": {},
   "cell_type": "markdown",
   "metadata": {},
   "source": [
    "## Upload the data to dashboard"
   ]
  },
  {
   "cell_type": "code",
   "execution_count": 53,
   "metadata": {},
   "outputs": [
    {
     "name": "stdout",
     "output_type": "stream",
     "text": [
      "fetch datasource\n"
     ]
    }
   ],
   "source": [
    "available_datasources = dashboard_client.list_datasources()\n",
    "sources_with_project_name = [i for i in available_datasources['results'] if i['name'] == project_name]\n",
    "if len(sources_with_project_name) == 0:\n",
    "    print('create datasource')\n",
    "    source = dashboard_client.create_datasource(project_name)\n",
    "    source.update_meta_and_data(json.loads(ds.qp_meta), ds.qp_data)\n",
    "else:\n",
    "    print('fetch datasource')\n",
    "    source = dashboard_client.get_datasource(sources_with_project_name[0]['pk'])\n"
   ]
  },
  {
   "cell_type": "code",
   "execution_count": 72,
   "metadata": {},
   "outputs": [
    {
     "name": "stdout",
     "output_type": "stream",
     "text": [
      "create report\n"
     ]
    },
    {
     "ename": "IndexError",
     "evalue": "list index out of range",
     "output_type": "error",
     "traceback": [
      "\u001b[0;31m---------------------------------------------------------------------------\u001b[0m",
      "\u001b[0;31mIndexError\u001b[0m                                Traceback (most recent call last)",
      "Cell \u001b[0;32mIn[72], line 8\u001b[0m\n\u001b[1;32m      6\u001b[0m     \u001b[39mprint\u001b[39m(\u001b[39m'\u001b[39m\u001b[39mfetch report\u001b[39m\u001b[39m'\u001b[39m)\n\u001b[1;32m      7\u001b[0m     report \u001b[39m=\u001b[39m dashboard_client\u001b[39m.\u001b[39mget_report(report[\u001b[39m0\u001b[39m][\u001b[39m'\u001b[39m\u001b[39mpk\u001b[39m\u001b[39m'\u001b[39m])\n\u001b[0;32m----> 8\u001b[0m header \u001b[39m=\u001b[39m report\u001b[39m.\u001b[39;49melements[\u001b[39m0\u001b[39;49m]\n\u001b[1;32m      9\u001b[0m report\u001b[39m.\u001b[39mupdate_content([header])\n",
      "\u001b[0;31mIndexError\u001b[0m: list index out of range"
     ]
    }
   ],
   "source": [
    "\n",
    "report = [i for i in dashboard_client.list_reports()['results'] if i['title'] == project_name]\n",
    "if len(report) == 0:\n",
    "    print('create report')\n",
    "    report = dashboard_client.create_report(project_name)\n",
    "else:\n",
    "    print('fetch report')\n",
    "    report = dashboard_client.get_report(report[0]['pk'])\n",
    "header = report.elements[0]\n",
    "report.update_content([header])"
   ]
  },
  {
   "cell_type": "code",
   "execution_count": 70,
   "metadata": {},
   "outputs": [
    {
     "data": {
      "text/plain": [
       "[]"
      ]
     },
     "execution_count": 70,
     "metadata": {},
     "output_type": "execute_result"
    }
   ],
   "source": [
    "report.elements"
   ]
  },
  {
   "cell_type": "code",
   "execution_count": 56,
   "metadata": {},
   "outputs": [],
   "source": [
    "variables = ds.variables()"
   ]
  },
  {
   "cell_type": "code",
   "execution_count": 57,
   "metadata": {},
   "outputs": [],
   "source": [
    "if len(banner_variables) == 0:\n",
    "  with open('../specs/common_variable_names.json', 'r') as f:\n",
    "      common_variables = json.load(f)\n",
    "  common_variables = [i.lower() for i in common_variables]\n",
    "  for var in variables['single']:\n",
    "    if any(match in var for match in common_variables):\n",
    "      banner_variables.append(var)"
   ]
  },
  {
   "cell_type": "code",
   "execution_count": 58,
   "metadata": {},
   "outputs": [],
   "source": [
    "if len(stub_variables) == 0:\n",
    "  stub_variables = variables['single']\n",
    "  stub_variables = [i for i in stub_variables if i not in banner_variables]"
   ]
  },
  {
   "cell_type": "code",
   "execution_count": 59,
   "metadata": {},
   "outputs": [],
   "source": [
    "x_y_pairs = [(i, '@') for i in stub_variables]\n"
   ]
  },
  {
   "cell_type": "code",
   "execution_count": 71,
   "metadata": {},
   "outputs": [],
   "source": [
    "report.add_charts(datasource_primary_key=source.get_id(),\n",
    "                     x_y_pairs=x_y_pairs,\n",
    "                     user_filters=banner_variables,\n",
    "                     filter=['gender == 1'],\n",
    "                     comparison_variables=['agecat'],\n",
    "                     charts_per_row=1)"
   ]
  },
  {
   "cell_type": "code",
   "execution_count": null,
   "metadata": {},
   "outputs": [],
   "source": []
  }
 ],
 "metadata": {
  "kernelspec": {
   "display_name": "Python 3",
   "language": "python",
   "name": "python3"
  },
  "language_info": {
   "codemirror_mode": {
    "name": "ipython",
    "version": 3
   },
   "file_extension": ".py",
   "mimetype": "text/x-python",
   "name": "python",
   "nbconvert_exporter": "python",
   "pygments_lexer": "ipython3",
   "version": "3.10.4"
  },
  "orig_nbformat": 4
 },
 "nbformat": 4,
 "nbformat_minor": 2
}
