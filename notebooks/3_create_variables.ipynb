{
 "cells": [
  {
   "cell_type": "code",
   "execution_count": 1,
   "metadata": {},
   "outputs": [],
   "source": [
    "import tally\n",
    "import os\n",
    "ds = tally.DataSet(api_key=os.environ.get(\"TALLY_KEY\"))"
   ]
  },
  {
   "cell_type": "code",
   "execution_count": null,
   "metadata": {
    "tags": [
     "parameters"
    ]
   },
   "outputs": [],
   "source": [
    "project_name = \"tally_example_project\""
   ]
  },
  {
   "cell_type": "code",
   "execution_count": 2,
   "metadata": {},
   "outputs": [
    {
     "name": "stderr",
     "output_type": "stream",
     "text": [
      "/home/codespace/.local/lib/python3.10/site-packages/pandas/core/internals/blocks.py:2323: RuntimeWarning: invalid value encountered in cast\n",
      "  values = values.astype(str)\n"
     ]
    }
   ],
   "source": [
    "ds.use_quantipy(f\"../data/2_{project_name}.json\",f\"../data/2_{project_name}.csv\")"
   ]
  },
  {
   "cell_type": "code",
   "execution_count": 8,
   "metadata": {},
   "outputs": [
    {
     "name": "stderr",
     "output_type": "stream",
     "text": [
      "/home/codespace/.local/lib/python3.10/site-packages/pandas/core/internals/blocks.py:2323: RuntimeWarning: invalid value encountered in cast\n",
      "  values = values.astype(str)\n"
     ]
    }
   ],
   "source": [
    "# derive new variable example\n",
    "#derive_conditions = [\n",
    "#    (1, \"Urban\", {'locality':[1,4,5]}),\n",
    "#    (2, \"Rural\", {'locality':[2,3]})\n",
    "#]\n",
    "#column = dataset.derive(name='urban', label='Urban or rural', cond_map=derive_conditions, qtype=\"single\")\n",
    "\n",
    "# create delimited set example\n",
    "#ds.to_delimited_set(\n",
    "#  name='Q2', \n",
    "#  label='Q2. Your question?', \n",
    "#  variables=[\n",
    "#    'Q2_1',\n",
    "#    'Q2_2',\n",
    "#    'Q2_3'\n",
    "#    ]\n",
    "#  )"
   ]
  },
  {
   "cell_type": "code",
   "execution_count": 10,
   "metadata": {},
   "outputs": [],
   "source": [
    "ds.write_quantipy(f\"../data/3_{project_name}.json\",f\"../data/3_{project_name}.csv\")"
   ]
  }
 ],
 "metadata": {
  "kernelspec": {
   "display_name": "Python 3.10.4 64-bit",
   "language": "python",
   "name": "python3"
  },
  "language_info": {
   "codemirror_mode": {
    "name": "ipython",
    "version": 3
   },
   "file_extension": ".py",
   "mimetype": "text/x-python",
   "name": "python",
   "nbconvert_exporter": "python",
   "pygments_lexer": "ipython3",
   "version": "3.10.4"
  },
  "orig_nbformat": 4,
  "vscode": {
   "interpreter": {
    "hash": "3ad933181bd8a04b432d3370b9dc3b0662ad032c4dfaa4e4f1596c548f763858"
   }
  }
 },
 "nbformat": 4,
 "nbformat_minor": 2
}
