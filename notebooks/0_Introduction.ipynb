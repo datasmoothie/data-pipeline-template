{
 "cells": [
  {
   "cell_type": "markdown",
   "metadata": {},
   "source": [
    "## Step 1: Activating your Tally key in GitHub\n",
    "\n",
    "Each Tally user has a licence key that allows them to access the API features. Typically, other individuals within your organisation who use your code, will need to acquire their own API key in order to make your project run (depending on how your project is setup) in their environment. They would then add their API Key to their fork of your project as a secret (encrypted environment variable).\n",
    "\n",
    "You can securely store your API key as a \"Secret\" in your GitHub repository by going to:\n",
    "\n",
    "- Settings tab at top of your repo\n",
    "- Secrets option near bottom of left-most column\n",
    "- New Repository Secret\n",
    "- Enter the variable name for your API Key in the Name field\n",
    "- example: TALLY_API_KEY\n",
    "- Enter your API Key value into the Value field.\n",
    "- Add Secret\n",
    "\n",
    "**You will need to stop and restart your repository if it is currently running**\n",
    "\n",
    "Now you just need to ensure that your project references the TALLY_API_KEY variable:\n",
    "- import tally\n",
    "- import os\n",
    "- set the API key parameter of the tally call to point to your secret key\n"
   ]
  },
  {
   "cell_type": "code",
   "execution_count": 1,
   "metadata": {},
   "outputs": [],
   "source": [
    "import tally\n",
    "import os"
   ]
  },
  {
   "cell_type": "code",
   "execution_count": 2,
   "metadata": {},
   "outputs": [],
   "source": [
    "ds = tally.DataSet(api_key=os.environ.get(\"TALLY_KEY\"))"
   ]
  }
 ],
 "metadata": {
  "kernelspec": {
   "display_name": "Python 3.10.4 64-bit",
   "language": "python",
   "name": "python3"
  },
  "language_info": {
   "codemirror_mode": {
    "name": "ipython",
    "version": 3
   },
   "file_extension": ".py",
   "mimetype": "text/x-python",
   "name": "python",
   "nbconvert_exporter": "python",
   "pygments_lexer": "ipython3",
   "version": "3.10.4"
  },
  "orig_nbformat": 4,
  "vscode": {
   "interpreter": {
    "hash": "3ad933181bd8a04b432d3370b9dc3b0662ad032c4dfaa4e4f1596c548f763858"
   }
  }
 },
 "nbformat": 4,
 "nbformat_minor": 2
}
