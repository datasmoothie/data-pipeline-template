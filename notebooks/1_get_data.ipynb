{
 "cells": [
  {
   "attachments": {},
   "cell_type": "markdown",
   "metadata": {},
   "source": [
    "# Get the survey data\n",
    "\n",
    "You can either upload your data into the data folder (which isn't uploaded into the repository) or specify what external datasource your data will be fetched from.\n",
    "\n",
    "<style>\n",
    ".alert{\n",
    "    padding:10px;\n",
    "    margin-bottom:10px;\n",
    "    color: rgb(10,88,202);\n",
    "    background-color: rgb(207, 226, 255);\n",
    "    border: 1px solid rgb(158,197,254);\n",
    "    border-radius: 5px;\n",
    "    width:100%;\n",
    "    margin-left:auto;\n",
    "    margin-right:auto;\n",
    "    margin-top:20px;\n",
    "}\n",
    "</style>\n",
    "\n",
    "<div class=\"alert\"><p>I'm in danger</p></div>"
   ]
  },
  {
   "cell_type": "code",
   "execution_count": 1,
   "metadata": {},
   "outputs": [],
   "source": [
    "import tally\n",
    "import os"
   ]
  },
  {
   "attachments": {},
   "cell_type": "markdown",
   "metadata": {},
   "source": [
    "## Specify your filename here\n",
    "\n",
    "Put your datafile in the `data` folder and add the name of your file to the `filename` variable. Example:\n",
    "\n",
    "```\n",
    "project_name = \"tally_example_project\"\n",
    "filename = \"myfile.sav\"\n",
    "```"
   ]
  },
  {
   "cell_type": "code",
   "execution_count": null,
   "metadata": {
    "tags": [
     "parameters"
    ]
   },
   "outputs": [],
   "source": [
    "project_name = \"tally_example_project\"\n",
    "filename = \"\""
   ]
  },
  {
   "cell_type": "code",
   "execution_count": null,
   "metadata": {},
   "outputs": [],
   "source": [
    "if filename == \"\":\n",
    "  raise Exception(\"Please specify filename in the 1_get_data notebook\")\n",
    "\n",
    "data_file = f\"../data/{filename}\"\n",
    "\n",
    "ds = tally.DataSet(api_key=os.environ.get(\"TALLY_KEY\"))\n",
    "if \".sav\" in data_file:\n",
    "  ds.use_spss(data_file)"
   ]
  },
  {
   "cell_type": "code",
   "execution_count": null,
   "metadata": {},
   "outputs": [],
   "source": [
    "ds.write_quantipy(f\"../data/1_{project_name}.json\",f\"../data/1_{project_name}.csv\")"
   ]
  }
 ],
 "metadata": {
  "kernelspec": {
   "display_name": "Python 3.10.4 64-bit",
   "language": "python",
   "name": "python3"
  },
  "language_info": {
   "codemirror_mode": {
    "name": "ipython",
    "version": 3
   },
   "file_extension": ".py",
   "mimetype": "text/x-python",
   "name": "python",
   "nbconvert_exporter": "python",
   "pygments_lexer": "ipython3",
   "version": "3.10.4"
  },
  "orig_nbformat": 4,
  "vscode": {
   "interpreter": {
    "hash": "3ad933181bd8a04b432d3370b9dc3b0662ad032c4dfaa4e4f1596c548f763858"
   }
  }
 },
 "nbformat": 4,
 "nbformat_minor": 2
}
