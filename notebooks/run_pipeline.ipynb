{
 "cells": [
  {
   "cell_type": "code",
   "execution_count": 1,
   "metadata": {},
   "outputs": [],
   "source": [
    "import os, re\n",
    "import papermill as pm\n"
   ]
  },
  {
   "attachments": {},
   "cell_type": "markdown",
   "metadata": {},
   "source": [
    "# Name your project and define what files and variables to use\n",
    "\n",
    "The following parameters will be fed into the script.\n",
    "- `project_name` - what will the Excel file be called\n",
    "- `data_file` - what data file are we using (leave this blank if you only upload one file into the data folder)\n",
    "- `banner_variables` - this will go at the top of the tables. \n",
    "- `stub_variables` - these will go down the side of the tables."
   ]
  },
  {
   "cell_type": "code",
   "execution_count": 2,
   "metadata": {},
   "outputs": [],
   "source": [
    "# parameters\n",
    "parameters = {\n",
    "  'project_name': 'tally_example_project',\n",
    "  # Should the Excel file be one sheet, or one sheet per table (True or False)\n",
    "  'one_sheet_per_table': True,\n",
    "  # if this is empty, the first .sav file found in the data folder will be used\n",
    "  'data_file': '',\n",
    "  # banner variables - this will go at the top of the tables. \n",
    "  # If left empty, the script will guess according to common variable names.\n",
    "  'banner_variables': [],\n",
    "  # stub variables - these will go down the side of the tables. \n",
    "  # If left empty, the script will use all variables not in the banner_variables\n",
    "  'stub_variables': []  \n",
    "}\n"
   ]
  },
  {
   "attachments": {},
   "cell_type": "markdown",
   "metadata": {},
   "source": [
    "# Run the pipeline\n",
    "\n",
    "Run this cell to run all your notebooks, from 1-5, and produce the final build. This pipeline can form part of your CI/CD pipeline."
   ]
  },
  {
   "cell_type": "code",
   "execution_count": 3,
   "metadata": {},
   "outputs": [
    {
     "data": {
      "application/vnd.jupyter.widget-view+json": {
       "model_id": "30bed5d19a494781a538f6a716673975",
       "version_major": 2,
       "version_minor": 0
      },
      "text/plain": [
       "Executing:   0%|          | 0/5 [00:00<?, ?cell/s]"
      ]
     },
     "metadata": {},
     "output_type": "display_data"
    },
    {
     "data": {
      "application/vnd.jupyter.widget-view+json": {
       "model_id": "d84b83d9e3e142788dc8255872cd7c05",
       "version_major": 2,
       "version_minor": 0
      },
      "text/plain": [
       "Executing:   0%|          | 0/7 [00:00<?, ?cell/s]"
      ]
     },
     "metadata": {},
     "output_type": "display_data"
    },
    {
     "data": {
      "application/vnd.jupyter.widget-view+json": {
       "model_id": "b2846c6c2be14e00a498c1fae7bbdd13",
       "version_major": 2,
       "version_minor": 0
      },
      "text/plain": [
       "Executing:   0%|          | 0/8 [00:00<?, ?cell/s]"
      ]
     },
     "metadata": {},
     "output_type": "display_data"
    },
    {
     "data": {
      "application/vnd.jupyter.widget-view+json": {
       "model_id": "adb46d45b0d64734a1426d17402800e2",
       "version_major": 2,
       "version_minor": 0
      },
      "text/plain": [
       "Executing:   0%|          | 0/8 [00:00<?, ?cell/s]"
      ]
     },
     "metadata": {},
     "output_type": "display_data"
    },
    {
     "data": {
      "application/vnd.jupyter.widget-view+json": {
       "model_id": "13773f6f0cc24cd6aca009b7d9412cbb",
       "version_major": 2,
       "version_minor": 0
      },
      "text/plain": [
       "Executing:   0%|          | 0/8 [00:00<?, ?cell/s]"
      ]
     },
     "metadata": {},
     "output_type": "display_data"
    },
    {
     "data": {
      "application/vnd.jupyter.widget-view+json": {
       "model_id": "3205bf6f461f44cab22c6552a51f1a3d",
       "version_major": 2,
       "version_minor": 0
      },
      "text/plain": [
       "Executing:   0%|          | 0/18 [00:00<?, ?cell/s]"
      ]
     },
     "metadata": {},
     "output_type": "display_data"
    },
    {
     "data": {
      "application/vnd.jupyter.widget-view+json": {
       "model_id": "3085e144c4694069a2900608d57718b0",
       "version_major": 2,
       "version_minor": 0
      },
      "text/plain": [
       "Executing:   0%|          | 0/16 [00:00<?, ?cell/s]"
      ]
     },
     "metadata": {},
     "output_type": "display_data"
    },
    {
     "data": {
      "application/vnd.jupyter.widget-view+json": {
       "model_id": "e13c08517ac04763b507dfdd5bd0791b",
       "version_major": 2,
       "version_minor": 0
      },
      "text/plain": [
       "Executing:   0%|          | 0/16 [00:00<?, ?cell/s]"
      ]
     },
     "metadata": {},
     "output_type": "display_data"
    },
    {
     "name": "stdout",
     "output_type": "stream",
     "text": [
      "Successfully ran pipeline. Find your output files in the outputs folder.\n"
     ]
    }
   ],
   "source": [
    "# Set the path to the folder containing the Jupyter notebooks\n",
    "notebook_folder = '.'\n",
    "\n",
    "# Loop over all the Jupyter notebooks in the folder\n",
    "for notebook_name in sorted(os.listdir(notebook_folder)):\n",
    "    # Check if the file is a Jupyter notebook\n",
    "    if notebook_name.endswith('.ipynb') and re.match(r'^\\d+_', notebook_name):\n",
    "        # Set the path to the input and output notebooks\n",
    "        input_notebook_path = os.path.join(notebook_folder, notebook_name)\n",
    "        output_notebook_path = os.path.join(notebook_folder, './output', notebook_name)\n",
    "        \n",
    "        # Execute the notebook with Papermill\n",
    "        pm.execute_notebook(input_notebook_path, output_notebook_path, parameters=parameters)\n",
    "print(\"Successfully ran pipeline. Find your output files in the outputs folder.\")"
   ]
  },
  {
   "cell_type": "code",
   "execution_count": null,
   "metadata": {},
   "outputs": [],
   "source": []
  }
 ],
 "metadata": {
  "kernelspec": {
   "display_name": "Python 3",
   "language": "python",
   "name": "python3"
  },
  "language_info": {
   "codemirror_mode": {
    "name": "ipython",
    "version": 3
   },
   "file_extension": ".py",
   "mimetype": "text/x-python",
   "name": "python",
   "nbconvert_exporter": "python",
   "pygments_lexer": "ipython3",
   "version": "3.10.4"
  },
  "orig_nbformat": 4
 },
 "nbformat": 4,
 "nbformat_minor": 2
}
